{
 "cells": [
  {
   "cell_type": "code",
   "execution_count": 1,
   "metadata": {
    "scrolled": false
   },
   "outputs": [
    {
     "name": "stderr",
     "output_type": "stream",
     "text": [
      "Using TensorFlow backend.\n"
     ]
    }
   ],
   "source": [
    "import warnings\n",
    "warnings.filterwarnings('ignore')\n",
    "import os\n",
    "os.environ[\"CUDA_VISIBLE_DEVICES\"]=\"0,1,2,3\"\n",
    "\n",
    "from config import get_parameters\n",
    "from core import *\n",
    "from keras.optimizers import  Adam,SGD\n",
    "from keras.applications.densenet import DenseNet121\n",
    "from keras.layers import Input, Activation, Dropout, Flatten, Dense, BatchNormalization, LeakyReLU\n",
    "from keras.models import Model\n",
    "\n",
    "epochs = 20"
   ]
  },
  {
   "cell_type": "code",
   "execution_count": 2,
   "metadata": {},
   "outputs": [
    {
     "name": "stdout",
     "output_type": "stream",
     "text": [
      "WARNING:tensorflow:From /usr/lib/python3.6/site-packages/tensorflow/python/framework/op_def_library.py:263: colocate_with (from tensorflow.python.framework.ops) is deprecated and will be removed in a future version.\n",
      "Instructions for updating:\n",
      "Colocations handled automatically by placer.\n"
     ]
    }
   ],
   "source": [
    "DenseParameters = get_parameters(K.image_data_format(),\n",
    "                                     model_name='DenseNet121',Dataset_name='hyprid_dataset_v2',\n",
    "                                     input_height=224, input_width= 224,input_channels=3,\n",
    "                                     batch_size=128,\n",
    "                                     total_epochs=epochs,\n",
    "                                     create_top_layers= True,\n",
    "                                     top_layers_dims=[1024,512,256,128],\n",
    "                                     pooling=None,\n",
    "                                     optimizer= Adam(lr=0.001),\n",
    "                                     pre_trained_weights='imagenet',\n",
    "                                     with_augmentation=True,\n",
    "                                     device = 'gpu_parallel',\n",
    "                                     gpus_number = 4\n",
    "                                )"
   ]
  },
  {
   "cell_type": "code",
   "execution_count": 3,
   "metadata": {},
   "outputs": [],
   "source": [
    "def run(DenseParameters):\n",
    "    input_tensor_shape = create_input_tensor_shape(DenseParameters)\n",
    "    model = DenseNet121(input_tensor=input_tensor_shape, weights=DenseParameters['pre_trained_weights'], include_top= (not DenseParameters['create_top_layers']), classes=DenseParameters['classes'], pooling=DenseParameters['pooling'])\n",
    "    initiate_model_then_train_then_save_results_to_csv_then_clear(model, DenseParameters, save_new_result_sheet = False)\n"
   ]
  },
  {
   "cell_type": "markdown",
   "metadata": {},
   "source": [
    "### #1 DenseNet121 POOL NONE IMAGENET 16,224,224,3 TOPLAYER [1024,256] Rate=0.0"
   ]
  },
  {
   "cell_type": "code",
   "execution_count": 5,
   "metadata": {},
   "outputs": [
    {
     "name": "stdout",
     "output_type": "stream",
     "text": [
      " ==============================================\n",
      " [INFO] Entering function[create_input_tensor_shape]  in core.py\n",
      " [INFO] data formate =  channels_last\n",
      " [INFO] Leaving function[create_input_tensor_shape]  in core.py with tensor shape=Tensor(\"input_1:0\", shape=(?, 224, 224, 3), dtype=float32)\n",
      " ==============================================\n",
      "must be str, not int\n"
     ]
    }
   ],
   "source": [
    "try:    \n",
    "    run(DenseParameters)\n",
    "    \n",
    "except Exception as e:\n",
    "    print(e)\n",
    "\n"
   ]
  },
  {
   "cell_type": "code",
   "execution_count": null,
   "metadata": {},
   "outputs": [],
   "source": []
  }
 ],
 "metadata": {
  "kernelspec": {
   "display_name": "Python 3",
   "language": "python",
   "name": "python3"
  },
  "language_info": {
   "codemirror_mode": {
    "name": "ipython",
    "version": 3
   },
   "file_extension": ".py",
   "mimetype": "text/x-python",
   "name": "python",
   "nbconvert_exporter": "python",
   "pygments_lexer": "ipython3",
   "version": "3.6.8"
  },
  "toc": {
   "base_numbering": 1,
   "nav_menu": {},
   "number_sections": true,
   "sideBar": true,
   "skip_h1_title": false,
   "title_cell": "Table of Contents",
   "title_sidebar": "Contents",
   "toc_cell": false,
   "toc_position": {},
   "toc_section_display": true,
   "toc_window_display": false
  }
 },
 "nbformat": 4,
 "nbformat_minor": 2
}
