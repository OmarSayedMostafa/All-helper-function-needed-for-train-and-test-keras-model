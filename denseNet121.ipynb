{
 "cells": [
  {
   "cell_type": "code",
   "execution_count": 1,
   "metadata": {
    "scrolled": false
   },
   "outputs": [
    {
     "name": "stderr",
     "output_type": "stream",
     "text": [
      "Using TensorFlow backend.\n"
     ]
    }
   ],
   "source": [
    "import warnings\n",
    "warnings.filterwarnings('ignore')\n",
    "import os\n",
    "os.environ[\"CUDA_VISIBLE_DEVICES\"]=\"0,1,2,3\"\n",
    "\n",
    "\n",
    "from config import get_parameters\n",
    "from core import *\n",
    "from keras.optimizers import  Adam,SGD\n",
    "from keras.applications.densenet import DenseNet121\n",
    "from keras.layers import Input, Activation, Dropout, Flatten, Dense, BatchNormalization, LeakyReLU\n",
    "from keras.models import Model\n",
    "\n",
    "epochs = 20"
   ]
  },
  {
   "cell_type": "code",
   "execution_count": 2,
   "metadata": {},
   "outputs": [
    {
     "name": "stdout",
     "output_type": "stream",
     "text": [
      "WARNING:tensorflow:From /usr/lib/python3.6/site-packages/tensorflow/python/framework/op_def_library.py:263: colocate_with (from tensorflow.python.framework.ops) is deprecated and will be removed in a future version.\n",
      "Instructions for updating:\n",
      "Colocations handled automatically by placer.\n"
     ]
    }
   ],
   "source": [
    "DenseParameters = get_parameters(K.image_data_format(),\n",
    "                                     model_name='DenseNet121',Dataset_name='hyprid_dataset_v2',\n",
    "                                     input_height=224, input_width= 224,input_channels=3,\n",
    "                                     batch_size=128,\n",
    "                                     total_epochs=epochs,\n",
    "                                     create_top_layers= True,\n",
    "                                     top_layers_dims=[1024,512,256,128],\n",
    "                                     pooling=None,\n",
    "                                     optimizer= Adam(lr=0.001),\n",
    "                                     pre_trained_weights='imagenet',\n",
    "                                     with_augmentation=True,\n",
    "                                     device = 'gpu_parallel',\n",
    "                                     gpus_number = 4\n",
    "                                )"
   ]
  },
  {
   "cell_type": "code",
   "execution_count": 3,
   "metadata": {},
   "outputs": [],
   "source": [
    "def run(DenseParameters):\n",
    "    input_tensor_shape = create_input_tensor_shape(DenseParameters)\n",
    "    model = DenseNet121(input_tensor=input_tensor_shape, weights=DenseParameters['pre_trained_weights'], include_top= (not DenseParameters['create_top_layers']), classes=DenseParameters['classes'], pooling=DenseParameters['pooling'])\n",
    "    initiate_model_then_train_then_save_results_to_csv_then_clear(model, DenseParameters, save_new_result_sheet = False)\n"
   ]
  },
  {
   "cell_type": "markdown",
   "metadata": {},
   "source": [
    "### #1 DenseNet121 POOL NONE IMAGENET 16,224,224,3 TOPLAYER [1024,256] Rate=0.0"
   ]
  },
  {
   "cell_type": "code",
   "execution_count": null,
   "metadata": {},
   "outputs": [
    {
     "name": "stdout",
     "output_type": "stream",
     "text": [
      " ==============================================\n",
      " [INFO] Entering function[create_input_tensor_shape]  in core.py\n",
      " [INFO] data formate =  channels_last\n",
      " [INFO] Leaving function[create_input_tensor_shape]  in core.py with tensor shape=Tensor(\"input_1:0\", shape=(?, 224, 224, 3), dtype=float32)\n",
      " ==============================================\n",
      " ==============================================\n",
      " [INFO] Entering function[initiate_model_then_train_then_save_results_to_csv_then_clear]\n",
      " ==============================================\n",
      " [INFO] Entering function[constrcut_model]  in core.py\n",
      " ==============================================\n",
      " [INFO] Entering function[prepare_train_valid_data]  in core.py\n",
      "Found 15596 images belonging to 3 classes.\n",
      "Found 786 images belonging to 3 classes.\n",
      "Found 786 images belonging to 3 classes.\n",
      " ==============================================\n",
      " [INFO] Entering function[get_classes_names_and_data_count_per_class_from_generator]  in core.py\n",
      " [INFO] Leaaving function[get_classes_names_and_data_count_per_class_from_generator]  in core.py with classes names =['nuts', 'screws', 'washers'] \n",
      " and data per class =[5413, 4983, 5200]\n",
      " ==============================================\n",
      " ==============================================\n",
      " [INFO] Entering function[get_classes_names_and_data_count_per_class_from_generator]  in core.py\n",
      " [INFO] Leaaving function[get_classes_names_and_data_count_per_class_from_generator]  in core.py with classes names =['nuts', 'screws', 'washers'] \n",
      " and data per class =[265, 269, 252]\n",
      " ==============================================\n",
      " ==============================================\n",
      " [INFO] Entering function[get_classes_names_and_data_count_per_class_from_generator]  in core.py\n",
      " [INFO] Leaaving function[get_classes_names_and_data_count_per_class_from_generator]  in core.py with classes names =['nuts', 'screws', 'washers'] \n",
      " and data per class =[265, 269, 252]\n",
      " ==============================================\n",
      " [INFO] Leaving function[prepare_train_valid_data]  in core.py\n",
      " ==============================================\n",
      " ==============================================\n",
      " [INFO] Entering function[create_top_layers]  in core.py\n",
      " ==============================================\n",
      " [INFO] creating top layers with activation = relu\n",
      " [INFO] Leaving function[constrcut_model]  in core.py\n",
      " ==============================================\n",
      " [INFO] target multi gpus...\n",
      " ==============================================\n",
      " [INFO] Entering function[train]  in core.py\n",
      " [INFO] running on MULTI GPUS = 4\n",
      "['/job:localhost/replica:0/task:0/device:GPU:0', '/job:localhost/replica:0/task:0/device:GPU:1', '/job:localhost/replica:0/task:0/device:GPU:2', '/job:localhost/replica:0/task:0/device:GPU:3']\n",
      "WARNING:tensorflow:From /usr/lib/python3.6/site-packages/tensorflow/python/ops/math_ops.py:3066: to_int32 (from tensorflow.python.ops.math_ops) is deprecated and will be removed in a future version.\n",
      "Instructions for updating:\n",
      "Use tf.cast instead.\n",
      "Epoch 1/20\n",
      "121/121 [==============================] - 361s 3s/step - loss: 0.2275 - acc: 0.9156 - val_loss: 0.1383 - val_acc: 0.9570\n",
      "Epoch 2/20\n",
      "121/121 [==============================] - 248s 2s/step - loss: 0.1349 - acc: 0.9534 - val_loss: 0.1383 - val_acc: 0.9498\n",
      "Epoch 3/20\n",
      "121/121 [==============================] - 248s 2s/step - loss: 0.1076 - acc: 0.9627 - val_loss: 0.1873 - val_acc: 0.9347\n",
      "Epoch 4/20\n",
      "121/121 [==============================] - 249s 2s/step - loss: 0.0934 - acc: 0.9700 - val_loss: 0.1849 - val_acc: 0.9407\n",
      "Epoch 5/20\n",
      "121/121 [==============================] - 247s 2s/step - loss: 0.0835 - acc: 0.9721 - val_loss: 0.0948 - val_acc: 0.9757\n",
      "Epoch 6/20\n",
      " 97/121 [=======================>......] - ETA: 48s - loss: 0.0880 - acc: 0.9695"
     ]
    }
   ],
   "source": [
    "# try:\n",
    "#     K.tensorflow_backend.set_image_dim_ordering('th')\n",
    "    \n",
    "run(DenseParameters)\n",
    "    \n",
    "#     K.tensorflow_backend.set_image_dim_ordering('tf')\n",
    "\n",
    "    \n",
    "# except Exception as e:\n",
    "#     print(e)\n",
    "#     K.tensorflow_backend.set_image_dim_ordering('tf')\n",
    "\n"
   ]
  },
  {
   "cell_type": "code",
   "execution_count": 3,
   "metadata": {},
   "outputs": [],
   "source": [
    "model_path = '/home/omar/supplements_detetction_and_classification/supplements_classification_models/Allnets/weights/DenseNet121_weights_on_hyprid_dataset_v2_input_shape_[64,224,224,3]_with_top_layers_[1024,512,256,128]_activation_relu_with_rate_0.0_with_pretrained_weights_imagenet_pooling_None.h5'\n",
    "parameters_path = '/home/omar/supplements_detetction_and_classification/supplements_classification_models/Allnets/weights/DenseNet121_parameters.json'"
   ]
  },
  {
   "cell_type": "code",
   "execution_count": 4,
   "metadata": {},
   "outputs": [
    {
     "name": "stdout",
     "output_type": "stream",
     "text": [
      " ==============================================\n",
      " [INFO] Entering function[load_model_and_continue_training]  in core.py\n",
      "loaded parameters {'model_name': 'DenseNet121', 'Dataset_name': 'hyprid_dataset_v2', 'train_acc_according_to_max_validation_acc': '0.9061', 'max_validation_acc': '0.944', 'best_accuracy_epoch': '1', 'total_epochs': 3, 'overall_train_accuracy': '0.9529', 'overall_validation_accuracy': '0.9418', 'overall_test_accuracy': '0.0', 'input_height': 224, 'input_width': 224, 'input_channels': 3, 'batch_size': 64, 'dataformat': 'channels_last', 'create_top_layers': 'True', 'top_layers_dims': '[1024, 512, 256, 128]', 'activation': 'relu', 'drop_rate': 0.0, 'with_augmentation': 'True', 'shift_range': 0.1, 'rotation_range': 2, 'pre_trained_weights': 'imagenet', 'pooling': 'None', 'optimizer': 'adam', 'device': 'gpu_parallel', 'classes': 3, 'train_classes_names': ['nuts', 'screws', 'washers'], 'train_data_per_class': [5413, 4983, 5200], 'valid_classes_names': ['nuts', 'screws', 'washers'], 'valid_data_per_class': [265, 269, 252], 'test_classes_names': ['nuts', 'screws', 'washers'], 'test_data_per_class': [265, 269, 252], 'accuracy_on_valid_data_per_class': '[]', 'accuracy_on_test_data_per_class': '[0.9962, 0.948, 0.9048]', 'model_save_path': 'weights/DenseNet121_weights_on_hyprid_dataset_v2_input_shape_[64,224,224,3]_with_top_layers_[1024,512,256,128]_activation_relu_with_rate_0.0_with_pretrained_weights_imagenet_pooling_None.h5', 'train_data_path': '/home/omar/supplements_detetction_and_classification/hyprid_Dataset/train/', 'valid_data_path': '/home/omar/supplements_detetction_and_classification/hyprid_Dataset/valid/', 'test_data_path': '/home/omar/supplements_detetction_and_classification/hyprid_Dataset/test/', 'result_sheet': '/home/omar/supplements_detetction_and_classification/supplements_classification_models/result_sheet.csv', 'json_file_path': 'weights/'}\n"
     ]
    },
    {
     "ename": "ValueError",
     "evalue": "axes don't match array",
     "output_type": "error",
     "traceback": [
      "\u001b[0;31m---------------------------------------------------------------------------\u001b[0m",
      "\u001b[0;31mValueError\u001b[0m                                Traceback (most recent call last)",
      "\u001b[0;32m<ipython-input-4-7cdfc257ca9e>\u001b[0m in \u001b[0;36m<module>\u001b[0;34m\u001b[0m\n\u001b[1;32m      1\u001b[0m \u001b[0;31m# K.tensorflow_backend.set_image_dim_ordering('th')\u001b[0m\u001b[0;34m\u001b[0m\u001b[0;34m\u001b[0m\u001b[0;34m\u001b[0m\u001b[0m\n\u001b[0;32m----> 2\u001b[0;31m \u001b[0mload_model_and_continue_training\u001b[0m\u001b[0;34m(\u001b[0m\u001b[0mmodel_path\u001b[0m\u001b[0;34m,\u001b[0m \u001b[0mparameters_path\u001b[0m\u001b[0;34m,\u001b[0m \u001b[0;32mFalse\u001b[0m\u001b[0;34m)\u001b[0m\u001b[0;34m\u001b[0m\u001b[0;34m\u001b[0m\u001b[0m\n\u001b[0m",
      "\u001b[0;32m/home/omar/supplements_detetction_and_classification/supplements_classification_models/Allnets/core.py\u001b[0m in \u001b[0;36mload_model_and_continue_training\u001b[0;34m(model_save_path, json_parameters_path, save_new_result_sheet)\u001b[0m\n\u001b[1;32m    272\u001b[0m \u001b[0;34m\u001b[0m\u001b[0m\n\u001b[1;32m    273\u001b[0m     \u001b[0;31m# load saved model\u001b[0m\u001b[0;34m\u001b[0m\u001b[0;34m\u001b[0m\u001b[0;34m\u001b[0m\u001b[0m\n\u001b[0;32m--> 274\u001b[0;31m     \u001b[0mmodel\u001b[0m \u001b[0;34m=\u001b[0m \u001b[0mload_pretrained_model\u001b[0m\u001b[0;34m(\u001b[0m\u001b[0mmodel_path\u001b[0m\u001b[0;34m=\u001b[0m\u001b[0mmodel_save_path\u001b[0m\u001b[0;34m)\u001b[0m\u001b[0;34m\u001b[0m\u001b[0;34m\u001b[0m\u001b[0m\n\u001b[0m\u001b[1;32m    275\u001b[0m     \u001b[0;31m# -----------------------------------------------------------------------------------------------------\u001b[0m\u001b[0;34m\u001b[0m\u001b[0;34m\u001b[0m\u001b[0;34m\u001b[0m\u001b[0m\n\u001b[1;32m    276\u001b[0m     \u001b[0;31m# get train generator , validation_generator, test_generator, parameters from  prepare_train_valid_data\u001b[0m\u001b[0;34m\u001b[0m\u001b[0;34m\u001b[0m\u001b[0;34m\u001b[0m\u001b[0m\n",
      "\u001b[0;32m/home/omar/supplements_detetction_and_classification/supplements_classification_models/Allnets/utils.py\u001b[0m in \u001b[0;36mload_pretrained_model\u001b[0;34m(model_path)\u001b[0m\n\u001b[1;32m     79\u001b[0m \u001b[0;32mdef\u001b[0m \u001b[0mload_pretrained_model\u001b[0m\u001b[0;34m(\u001b[0m\u001b[0mmodel_path\u001b[0m\u001b[0;34m=\u001b[0m\u001b[0;32mNone\u001b[0m\u001b[0;34m)\u001b[0m\u001b[0;34m:\u001b[0m\u001b[0;34m\u001b[0m\u001b[0;34m\u001b[0m\u001b[0m\n\u001b[1;32m     80\u001b[0m     \u001b[0mstart_loading\u001b[0m \u001b[0;34m=\u001b[0m \u001b[0mtime\u001b[0m\u001b[0;34m.\u001b[0m\u001b[0mtime\u001b[0m\u001b[0;34m(\u001b[0m\u001b[0;34m)\u001b[0m\u001b[0;34m\u001b[0m\u001b[0;34m\u001b[0m\u001b[0m\n\u001b[0;32m---> 81\u001b[0;31m     \u001b[0mmodel\u001b[0m \u001b[0;34m=\u001b[0m \u001b[0mload_model\u001b[0m\u001b[0;34m(\u001b[0m\u001b[0mmodel_path\u001b[0m\u001b[0;34m)\u001b[0m\u001b[0;34m\u001b[0m\u001b[0;34m\u001b[0m\u001b[0m\n\u001b[0m\u001b[1;32m     82\u001b[0m     \u001b[0mload_time\u001b[0m \u001b[0;34m=\u001b[0m \u001b[0mtime\u001b[0m\u001b[0;34m.\u001b[0m\u001b[0mtime\u001b[0m\u001b[0;34m(\u001b[0m\u001b[0;34m)\u001b[0m\u001b[0;34m-\u001b[0m\u001b[0mstart_loading\u001b[0m\u001b[0;34m\u001b[0m\u001b[0;34m\u001b[0m\u001b[0m\n\u001b[1;32m     83\u001b[0m     \u001b[0mprint\u001b[0m\u001b[0;34m(\u001b[0m\u001b[0;34m\"==>> model loaded in \"\u001b[0m\u001b[0;34m+\u001b[0m\u001b[0mstr\u001b[0m\u001b[0;34m(\u001b[0m\u001b[0mload_time\u001b[0m\u001b[0;34m)\u001b[0m\u001b[0;34m+\u001b[0m\u001b[0;34m\"sec\"\u001b[0m\u001b[0;34m)\u001b[0m\u001b[0;34m\u001b[0m\u001b[0;34m\u001b[0m\u001b[0m\n",
      "\u001b[0;32m/usr/lib/python3.6/site-packages/Keras-2.2.5-py3.6.egg/keras/engine/saving.py\u001b[0m in \u001b[0;36mload_wrapper\u001b[0;34m(*args, **kwargs)\u001b[0m\n\u001b[1;32m    456\u001b[0m                 \u001b[0mos\u001b[0m\u001b[0;34m.\u001b[0m\u001b[0mremove\u001b[0m\u001b[0;34m(\u001b[0m\u001b[0mtmp_filepath\u001b[0m\u001b[0;34m)\u001b[0m\u001b[0;34m\u001b[0m\u001b[0;34m\u001b[0m\u001b[0m\n\u001b[1;32m    457\u001b[0m             \u001b[0;32mreturn\u001b[0m \u001b[0mres\u001b[0m\u001b[0;34m\u001b[0m\u001b[0;34m\u001b[0m\u001b[0m\n\u001b[0;32m--> 458\u001b[0;31m         \u001b[0;32mreturn\u001b[0m \u001b[0mload_function\u001b[0m\u001b[0;34m(\u001b[0m\u001b[0;34m*\u001b[0m\u001b[0margs\u001b[0m\u001b[0;34m,\u001b[0m \u001b[0;34m**\u001b[0m\u001b[0mkwargs\u001b[0m\u001b[0;34m)\u001b[0m\u001b[0;34m\u001b[0m\u001b[0;34m\u001b[0m\u001b[0m\n\u001b[0m\u001b[1;32m    459\u001b[0m \u001b[0;34m\u001b[0m\u001b[0m\n\u001b[1;32m    460\u001b[0m     \u001b[0;32mreturn\u001b[0m \u001b[0mload_wrapper\u001b[0m\u001b[0;34m\u001b[0m\u001b[0;34m\u001b[0m\u001b[0m\n",
      "\u001b[0;32m/usr/lib/python3.6/site-packages/Keras-2.2.5-py3.6.egg/keras/engine/saving.py\u001b[0m in \u001b[0;36mload_model\u001b[0;34m(filepath, custom_objects, compile)\u001b[0m\n\u001b[1;32m    548\u001b[0m     \u001b[0;32mif\u001b[0m \u001b[0mH5Dict\u001b[0m\u001b[0;34m.\u001b[0m\u001b[0mis_supported_type\u001b[0m\u001b[0;34m(\u001b[0m\u001b[0mfilepath\u001b[0m\u001b[0;34m)\u001b[0m\u001b[0;34m:\u001b[0m\u001b[0;34m\u001b[0m\u001b[0;34m\u001b[0m\u001b[0m\n\u001b[1;32m    549\u001b[0m         \u001b[0;32mwith\u001b[0m \u001b[0mH5Dict\u001b[0m\u001b[0;34m(\u001b[0m\u001b[0mfilepath\u001b[0m\u001b[0;34m,\u001b[0m \u001b[0mmode\u001b[0m\u001b[0;34m=\u001b[0m\u001b[0;34m'r'\u001b[0m\u001b[0;34m)\u001b[0m \u001b[0;32mas\u001b[0m \u001b[0mh5dict\u001b[0m\u001b[0;34m:\u001b[0m\u001b[0;34m\u001b[0m\u001b[0;34m\u001b[0m\u001b[0m\n\u001b[0;32m--> 550\u001b[0;31m             \u001b[0mmodel\u001b[0m \u001b[0;34m=\u001b[0m \u001b[0m_deserialize_model\u001b[0m\u001b[0;34m(\u001b[0m\u001b[0mh5dict\u001b[0m\u001b[0;34m,\u001b[0m \u001b[0mcustom_objects\u001b[0m\u001b[0;34m,\u001b[0m \u001b[0mcompile\u001b[0m\u001b[0;34m)\u001b[0m\u001b[0;34m\u001b[0m\u001b[0;34m\u001b[0m\u001b[0m\n\u001b[0m\u001b[1;32m    551\u001b[0m     \u001b[0;32melif\u001b[0m \u001b[0mhasattr\u001b[0m\u001b[0;34m(\u001b[0m\u001b[0mfilepath\u001b[0m\u001b[0;34m,\u001b[0m \u001b[0;34m'write'\u001b[0m\u001b[0;34m)\u001b[0m \u001b[0;32mand\u001b[0m \u001b[0mcallable\u001b[0m\u001b[0;34m(\u001b[0m\u001b[0mfilepath\u001b[0m\u001b[0;34m.\u001b[0m\u001b[0mwrite\u001b[0m\u001b[0;34m)\u001b[0m\u001b[0;34m:\u001b[0m\u001b[0;34m\u001b[0m\u001b[0;34m\u001b[0m\u001b[0m\n\u001b[1;32m    552\u001b[0m         \u001b[0;32mdef\u001b[0m \u001b[0mload_function\u001b[0m\u001b[0;34m(\u001b[0m\u001b[0mh5file\u001b[0m\u001b[0;34m)\u001b[0m\u001b[0;34m:\u001b[0m\u001b[0;34m\u001b[0m\u001b[0;34m\u001b[0m\u001b[0m\n",
      "\u001b[0;32m/usr/lib/python3.6/site-packages/Keras-2.2.5-py3.6.egg/keras/engine/saving.py\u001b[0m in \u001b[0;36m_deserialize_model\u001b[0;34m(h5dict, custom_objects, compile)\u001b[0m\n\u001b[1;32m    290\u001b[0m                                                        \u001b[0moriginal_keras_version\u001b[0m\u001b[0;34m,\u001b[0m\u001b[0;34m\u001b[0m\u001b[0;34m\u001b[0m\u001b[0m\n\u001b[1;32m    291\u001b[0m                                                        \u001b[0moriginal_backend\u001b[0m\u001b[0;34m,\u001b[0m\u001b[0;34m\u001b[0m\u001b[0;34m\u001b[0m\u001b[0m\n\u001b[0;32m--> 292\u001b[0;31m                                                        reshape=False)\n\u001b[0m\u001b[1;32m    293\u001b[0m         \u001b[0;32mif\u001b[0m \u001b[0mlen\u001b[0m\u001b[0;34m(\u001b[0m\u001b[0mweight_values\u001b[0m\u001b[0;34m)\u001b[0m \u001b[0;34m!=\u001b[0m \u001b[0mlen\u001b[0m\u001b[0;34m(\u001b[0m\u001b[0msymbolic_weights\u001b[0m\u001b[0;34m)\u001b[0m\u001b[0;34m:\u001b[0m\u001b[0;34m\u001b[0m\u001b[0;34m\u001b[0m\u001b[0m\n\u001b[1;32m    294\u001b[0m             raise ValueError('Layer #' + str(k) +\n",
      "\u001b[0;32m/usr/lib/python3.6/site-packages/Keras-2.2.5-py3.6.egg/keras/engine/saving.py\u001b[0m in \u001b[0;36mpreprocess_weights_for_loading\u001b[0;34m(layer, weights, original_keras_version, original_backend, reshape)\u001b[0m\n\u001b[1;32m    821\u001b[0m         \u001b[0mweights\u001b[0m \u001b[0;34m=\u001b[0m \u001b[0mconvert_nested_time_distributed\u001b[0m\u001b[0;34m(\u001b[0m\u001b[0mweights\u001b[0m\u001b[0;34m)\u001b[0m\u001b[0;34m\u001b[0m\u001b[0;34m\u001b[0m\u001b[0m\n\u001b[1;32m    822\u001b[0m     \u001b[0;32melif\u001b[0m \u001b[0mlayer\u001b[0m\u001b[0;34m.\u001b[0m\u001b[0m__class__\u001b[0m\u001b[0;34m.\u001b[0m\u001b[0m__name__\u001b[0m \u001b[0;32min\u001b[0m \u001b[0;34m[\u001b[0m\u001b[0;34m'Model'\u001b[0m\u001b[0;34m,\u001b[0m \u001b[0;34m'Sequential'\u001b[0m\u001b[0;34m]\u001b[0m\u001b[0;34m:\u001b[0m\u001b[0;34m\u001b[0m\u001b[0;34m\u001b[0m\u001b[0m\n\u001b[0;32m--> 823\u001b[0;31m         \u001b[0mweights\u001b[0m \u001b[0;34m=\u001b[0m \u001b[0mconvert_nested_model\u001b[0m\u001b[0;34m(\u001b[0m\u001b[0mweights\u001b[0m\u001b[0;34m)\u001b[0m\u001b[0;34m\u001b[0m\u001b[0;34m\u001b[0m\u001b[0m\n\u001b[0m\u001b[1;32m    824\u001b[0m \u001b[0;34m\u001b[0m\u001b[0m\n\u001b[1;32m    825\u001b[0m     \u001b[0;32mif\u001b[0m \u001b[0moriginal_keras_version\u001b[0m \u001b[0;34m==\u001b[0m \u001b[0;34m'1'\u001b[0m\u001b[0;34m:\u001b[0m\u001b[0;34m\u001b[0m\u001b[0;34m\u001b[0m\u001b[0m\n",
      "\u001b[0;32m/usr/lib/python3.6/site-packages/Keras-2.2.5-py3.6.egg/keras/engine/saving.py\u001b[0m in \u001b[0;36mconvert_nested_model\u001b[0;34m(weights)\u001b[0m\n\u001b[1;32m    809\u001b[0m                     \u001b[0mweights\u001b[0m\u001b[0;34m=\u001b[0m\u001b[0mweights\u001b[0m\u001b[0;34m[\u001b[0m\u001b[0;34m:\u001b[0m\u001b[0mnum_weights\u001b[0m\u001b[0;34m]\u001b[0m\u001b[0;34m,\u001b[0m\u001b[0;34m\u001b[0m\u001b[0;34m\u001b[0m\u001b[0m\n\u001b[1;32m    810\u001b[0m                     \u001b[0moriginal_keras_version\u001b[0m\u001b[0;34m=\u001b[0m\u001b[0moriginal_keras_version\u001b[0m\u001b[0;34m,\u001b[0m\u001b[0;34m\u001b[0m\u001b[0;34m\u001b[0m\u001b[0m\n\u001b[0;32m--> 811\u001b[0;31m                     original_backend=original_backend))\n\u001b[0m\u001b[1;32m    812\u001b[0m                 \u001b[0mweights\u001b[0m \u001b[0;34m=\u001b[0m \u001b[0mweights\u001b[0m\u001b[0;34m[\u001b[0m\u001b[0mnum_weights\u001b[0m\u001b[0;34m:\u001b[0m\u001b[0;34m]\u001b[0m\u001b[0;34m\u001b[0m\u001b[0;34m\u001b[0m\u001b[0m\n\u001b[1;32m    813\u001b[0m         \u001b[0;32mreturn\u001b[0m \u001b[0mnew_weights\u001b[0m\u001b[0;34m\u001b[0m\u001b[0;34m\u001b[0m\u001b[0m\n",
      "\u001b[0;32m/usr/lib/python3.6/site-packages/Keras-2.2.5-py3.6.egg/keras/engine/saving.py\u001b[0m in \u001b[0;36mpreprocess_weights_for_loading\u001b[0;34m(layer, weights, original_keras_version, original_backend, reshape)\u001b[0m\n\u001b[1;32m    821\u001b[0m         \u001b[0mweights\u001b[0m \u001b[0;34m=\u001b[0m \u001b[0mconvert_nested_time_distributed\u001b[0m\u001b[0;34m(\u001b[0m\u001b[0mweights\u001b[0m\u001b[0;34m)\u001b[0m\u001b[0;34m\u001b[0m\u001b[0;34m\u001b[0m\u001b[0m\n\u001b[1;32m    822\u001b[0m     \u001b[0;32melif\u001b[0m \u001b[0mlayer\u001b[0m\u001b[0;34m.\u001b[0m\u001b[0m__class__\u001b[0m\u001b[0;34m.\u001b[0m\u001b[0m__name__\u001b[0m \u001b[0;32min\u001b[0m \u001b[0;34m[\u001b[0m\u001b[0;34m'Model'\u001b[0m\u001b[0;34m,\u001b[0m \u001b[0;34m'Sequential'\u001b[0m\u001b[0;34m]\u001b[0m\u001b[0;34m:\u001b[0m\u001b[0;34m\u001b[0m\u001b[0;34m\u001b[0m\u001b[0m\n\u001b[0;32m--> 823\u001b[0;31m         \u001b[0mweights\u001b[0m \u001b[0;34m=\u001b[0m \u001b[0mconvert_nested_model\u001b[0m\u001b[0;34m(\u001b[0m\u001b[0mweights\u001b[0m\u001b[0;34m)\u001b[0m\u001b[0;34m\u001b[0m\u001b[0;34m\u001b[0m\u001b[0m\n\u001b[0m\u001b[1;32m    824\u001b[0m \u001b[0;34m\u001b[0m\u001b[0m\n\u001b[1;32m    825\u001b[0m     \u001b[0;32mif\u001b[0m \u001b[0moriginal_keras_version\u001b[0m \u001b[0;34m==\u001b[0m \u001b[0;34m'1'\u001b[0m\u001b[0;34m:\u001b[0m\u001b[0;34m\u001b[0m\u001b[0;34m\u001b[0m\u001b[0m\n",
      "\u001b[0;32m/usr/lib/python3.6/site-packages/Keras-2.2.5-py3.6.egg/keras/engine/saving.py\u001b[0m in \u001b[0;36mconvert_nested_model\u001b[0;34m(weights)\u001b[0m\n\u001b[1;32m    797\u001b[0m                     \u001b[0mweights\u001b[0m\u001b[0;34m=\u001b[0m\u001b[0mweights\u001b[0m\u001b[0;34m[\u001b[0m\u001b[0;34m:\u001b[0m\u001b[0mnum_weights\u001b[0m\u001b[0;34m]\u001b[0m\u001b[0;34m,\u001b[0m\u001b[0;34m\u001b[0m\u001b[0;34m\u001b[0m\u001b[0m\n\u001b[1;32m    798\u001b[0m                     \u001b[0moriginal_keras_version\u001b[0m\u001b[0;34m=\u001b[0m\u001b[0moriginal_keras_version\u001b[0m\u001b[0;34m,\u001b[0m\u001b[0;34m\u001b[0m\u001b[0;34m\u001b[0m\u001b[0m\n\u001b[0;32m--> 799\u001b[0;31m                     original_backend=original_backend))\n\u001b[0m\u001b[1;32m    800\u001b[0m                 \u001b[0mweights\u001b[0m \u001b[0;34m=\u001b[0m \u001b[0mweights\u001b[0m\u001b[0;34m[\u001b[0m\u001b[0mnum_weights\u001b[0m\u001b[0;34m:\u001b[0m\u001b[0;34m]\u001b[0m\u001b[0;34m\u001b[0m\u001b[0;34m\u001b[0m\u001b[0m\n\u001b[1;32m    801\u001b[0m \u001b[0;34m\u001b[0m\u001b[0m\n",
      "\u001b[0;32m/usr/lib/python3.6/site-packages/Keras-2.2.5-py3.6.egg/keras/engine/saving.py\u001b[0m in \u001b[0;36mpreprocess_weights_for_loading\u001b[0;34m(layer, weights, original_keras_version, original_backend, reshape)\u001b[0m\n\u001b[1;32m    940\u001b[0m             \u001b[0mweights\u001b[0m\u001b[0;34m[\u001b[0m\u001b[0;36m0\u001b[0m\u001b[0;34m]\u001b[0m \u001b[0;34m=\u001b[0m \u001b[0mnp\u001b[0m\u001b[0;34m.\u001b[0m\u001b[0mreshape\u001b[0m\u001b[0;34m(\u001b[0m\u001b[0mweights\u001b[0m\u001b[0;34m[\u001b[0m\u001b[0;36m0\u001b[0m\u001b[0;34m]\u001b[0m\u001b[0;34m,\u001b[0m \u001b[0mlayer_weights_shape\u001b[0m\u001b[0;34m)\u001b[0m\u001b[0;34m\u001b[0m\u001b[0;34m\u001b[0m\u001b[0m\n\u001b[1;32m    941\u001b[0m         \u001b[0;32melif\u001b[0m \u001b[0mlayer_weights_shape\u001b[0m \u001b[0;34m!=\u001b[0m \u001b[0mweights\u001b[0m\u001b[0;34m[\u001b[0m\u001b[0;36m0\u001b[0m\u001b[0;34m]\u001b[0m\u001b[0;34m.\u001b[0m\u001b[0mshape\u001b[0m\u001b[0;34m:\u001b[0m\u001b[0;34m\u001b[0m\u001b[0;34m\u001b[0m\u001b[0m\n\u001b[0;32m--> 942\u001b[0;31m             \u001b[0mweights\u001b[0m\u001b[0;34m[\u001b[0m\u001b[0;36m0\u001b[0m\u001b[0;34m]\u001b[0m \u001b[0;34m=\u001b[0m \u001b[0mnp\u001b[0m\u001b[0;34m.\u001b[0m\u001b[0mtranspose\u001b[0m\u001b[0;34m(\u001b[0m\u001b[0mweights\u001b[0m\u001b[0;34m[\u001b[0m\u001b[0;36m0\u001b[0m\u001b[0;34m]\u001b[0m\u001b[0;34m,\u001b[0m \u001b[0;34m(\u001b[0m\u001b[0;36m3\u001b[0m\u001b[0;34m,\u001b[0m \u001b[0;36m2\u001b[0m\u001b[0;34m,\u001b[0m \u001b[0;36m0\u001b[0m\u001b[0;34m,\u001b[0m \u001b[0;36m1\u001b[0m\u001b[0;34m)\u001b[0m\u001b[0;34m)\u001b[0m\u001b[0;34m\u001b[0m\u001b[0;34m\u001b[0m\u001b[0m\n\u001b[0m\u001b[1;32m    943\u001b[0m             \u001b[0;32mif\u001b[0m \u001b[0mlayer\u001b[0m\u001b[0;34m.\u001b[0m\u001b[0m__class__\u001b[0m\u001b[0;34m.\u001b[0m\u001b[0m__name__\u001b[0m \u001b[0;34m==\u001b[0m \u001b[0;34m'ConvLSTM2D'\u001b[0m\u001b[0;34m:\u001b[0m\u001b[0;34m\u001b[0m\u001b[0;34m\u001b[0m\u001b[0m\n\u001b[1;32m    944\u001b[0m                 \u001b[0mweights\u001b[0m\u001b[0;34m[\u001b[0m\u001b[0;36m1\u001b[0m\u001b[0;34m]\u001b[0m \u001b[0;34m=\u001b[0m \u001b[0mnp\u001b[0m\u001b[0;34m.\u001b[0m\u001b[0mtranspose\u001b[0m\u001b[0;34m(\u001b[0m\u001b[0mweights\u001b[0m\u001b[0;34m[\u001b[0m\u001b[0;36m1\u001b[0m\u001b[0;34m]\u001b[0m\u001b[0;34m,\u001b[0m \u001b[0;34m(\u001b[0m\u001b[0;36m3\u001b[0m\u001b[0;34m,\u001b[0m \u001b[0;36m2\u001b[0m\u001b[0;34m,\u001b[0m \u001b[0;36m0\u001b[0m\u001b[0;34m,\u001b[0m \u001b[0;36m1\u001b[0m\u001b[0;34m)\u001b[0m\u001b[0;34m)\u001b[0m\u001b[0;34m\u001b[0m\u001b[0;34m\u001b[0m\u001b[0m\n",
      "\u001b[0;32m<__array_function__ internals>\u001b[0m in \u001b[0;36mtranspose\u001b[0;34m(*args, **kwargs)\u001b[0m\n",
      "\u001b[0;32m/usr/lib64/python3.6/site-packages/numpy/core/fromnumeric.py\u001b[0m in \u001b[0;36mtranspose\u001b[0;34m(a, axes)\u001b[0m\n\u001b[1;32m    648\u001b[0m \u001b[0;34m\u001b[0m\u001b[0m\n\u001b[1;32m    649\u001b[0m     \"\"\"\n\u001b[0;32m--> 650\u001b[0;31m     \u001b[0;32mreturn\u001b[0m \u001b[0m_wrapfunc\u001b[0m\u001b[0;34m(\u001b[0m\u001b[0ma\u001b[0m\u001b[0;34m,\u001b[0m \u001b[0;34m'transpose'\u001b[0m\u001b[0;34m,\u001b[0m \u001b[0maxes\u001b[0m\u001b[0;34m)\u001b[0m\u001b[0;34m\u001b[0m\u001b[0;34m\u001b[0m\u001b[0m\n\u001b[0m\u001b[1;32m    651\u001b[0m \u001b[0;34m\u001b[0m\u001b[0m\n\u001b[1;32m    652\u001b[0m \u001b[0;34m\u001b[0m\u001b[0m\n",
      "\u001b[0;32m/usr/lib64/python3.6/site-packages/numpy/core/fromnumeric.py\u001b[0m in \u001b[0;36m_wrapfunc\u001b[0;34m(obj, method, *args, **kwds)\u001b[0m\n\u001b[1;32m     59\u001b[0m \u001b[0;34m\u001b[0m\u001b[0m\n\u001b[1;32m     60\u001b[0m     \u001b[0;32mtry\u001b[0m\u001b[0;34m:\u001b[0m\u001b[0;34m\u001b[0m\u001b[0;34m\u001b[0m\u001b[0m\n\u001b[0;32m---> 61\u001b[0;31m         \u001b[0;32mreturn\u001b[0m \u001b[0mbound\u001b[0m\u001b[0;34m(\u001b[0m\u001b[0;34m*\u001b[0m\u001b[0margs\u001b[0m\u001b[0;34m,\u001b[0m \u001b[0;34m**\u001b[0m\u001b[0mkwds\u001b[0m\u001b[0;34m)\u001b[0m\u001b[0;34m\u001b[0m\u001b[0;34m\u001b[0m\u001b[0m\n\u001b[0m\u001b[1;32m     62\u001b[0m     \u001b[0;32mexcept\u001b[0m \u001b[0mTypeError\u001b[0m\u001b[0;34m:\u001b[0m\u001b[0;34m\u001b[0m\u001b[0;34m\u001b[0m\u001b[0m\n\u001b[1;32m     63\u001b[0m         \u001b[0;31m# A TypeError occurs if the object does have such a method in its\u001b[0m\u001b[0;34m\u001b[0m\u001b[0;34m\u001b[0m\u001b[0;34m\u001b[0m\u001b[0m\n",
      "\u001b[0;31mValueError\u001b[0m: axes don't match array"
     ]
    }
   ],
   "source": [
    "# K.tensorflow_backend.set_image_dim_ordering('th')\n",
    "load_model_and_continue_training(model_path, parameters_path, False)\n"
   ]
  },
  {
   "cell_type": "code",
   "execution_count": null,
   "metadata": {},
   "outputs": [],
   "source": []
  },
  {
   "cell_type": "code",
   "execution_count": 3,
   "metadata": {},
   "outputs": [],
   "source": [
    "### #2 DenseNet121 POOL AVG IMAGENET 16,224,224,3 TOPLAYER [1024,256] Rate=0.0"
   ]
  },
  {
   "cell_type": "code",
   "execution_count": null,
   "metadata": {},
   "outputs": [],
   "source": [
    "try:\n",
    "    K.tensorflow_backend.set_image_dim_ordering('th')\n",
    "\n",
    "    DenseParameters = get_parameters(K.image_data_format(),_parameters=DenseParameters\n",
    "                                     pooling='Avg',\n",
    "                                     optimizer= Adam(lr=0.001),\n",
    "                                     pre_trained_weights=None,\n",
    "                                     create_top_layers= False,\n",
    "                                    )\n",
    "    run(DenseParameters)\n",
    "    K.tensorflow_backend.set_image_dim_ordering('tf')\n",
    "\n",
    "    \n",
    "except Exception as e:\n",
    "    print(e)\n",
    "    K.tensorflow_backend.set_image_dim_ordering('tf')"
   ]
  },
  {
   "cell_type": "code",
   "execution_count": null,
   "metadata": {},
   "outputs": [],
   "source": [
    "### #3 DenseNet121 POOL None IMAGENET 16,224,224,3 TOPLAYER [1024,512, 256] Rate=0.0"
   ]
  },
  {
   "cell_type": "code",
   "execution_count": null,
   "metadata": {},
   "outputs": [],
   "source": [
    "try:\n",
    "    K.tensorflow_backend.set_image_dim_ordering('th')\n",
    "\n",
    "    DenseParameters = get_parameters(K.image_data_format(),_parameters=DenseParameters\n",
    "                                     pooling='Max',\n",
    "                                     optimizer= Adam(lr=0.001),)\n",
    "    run(DenseParameters)\n",
    "    K.tensorflow_backend.set_image_dim_ordering('tf')\n",
    "\n",
    "except Exception as e:\n",
    "    print(e)\n",
    "    K.tensorflow_backend.set_image_dim_ordering('tf')"
   ]
  },
  {
   "cell_type": "code",
   "execution_count": null,
   "metadata": {},
   "outputs": [],
   "source": [
    "### #4 DenseNet121 POOL Avg IMAGENET 16,224,224,3 TOPLAYER [1024,512,256] Rate=0.0"
   ]
  },
  {
   "cell_type": "code",
   "execution_count": null,
   "metadata": {},
   "outputs": [],
   "source": [
    "try:\n",
    "    K.tensorflow_backend.set_image_dim_ordering('th')\n",
    "\n",
    "    DenseParameters = get_parameters(K.image_data_format(),_parameters=DenseParameters\n",
    "                                     top_layers_dims=[1024,512,256],\n",
    "                                     pooling=None,\n",
    "                                     optimizer= Adam(lr=0.001))\n",
    "\n",
    "    run(DenseParameters)\n",
    "    K.tensorflow_backend.set_image_dim_ordering('tf')\n",
    "\n",
    "except Exception as e:\n",
    "    print(e)\n",
    "    K.tensorflow_backend.set_image_dim_ordering('tf')"
   ]
  },
  {
   "cell_type": "code",
   "execution_count": null,
   "metadata": {},
   "outputs": [],
   "source": [
    "### #5 DenseNet121 POOL Max IMAGENET 16,224,224,3 TOPLAYER [1024,512,256] Rate=0.0"
   ]
  },
  {
   "cell_type": "code",
   "execution_count": null,
   "metadata": {},
   "outputs": [],
   "source": [
    "try:\n",
    "    K.tensorflow_backend.set_image_dim_ordering('th')\n",
    "\n",
    "    MobilParameters = get_parameters(K.image_data_format(),_parameters=MobilParameters\n",
    "                                     pooling='Avg',\n",
    "                                     optimizer= Adam(lr=0.001))\n",
    "\n",
    "    run(MobilParameters)\n",
    "    K.tensorflow_backend.set_image_dim_ordering('tf')\n",
    "\n",
    "except Exception as e:\n",
    "    print(e)\n",
    "    K.tensorflow_backend.set_image_dim_ordering('tf')"
   ]
  },
  {
   "cell_type": "code",
   "execution_count": null,
   "metadata": {},
   "outputs": [],
   "source": [
    "### #6 DenseNet121 POOL Max IMAGENET 16,224,224,3 TOPLAYER [1024,512, 256] Rate=0.0 without augmentation"
   ]
  },
  {
   "cell_type": "code",
   "execution_count": null,
   "metadata": {},
   "outputs": [],
   "source": [
    "try:\n",
    "    K.tensorflow_backend.set_image_dim_ordering('th')\n",
    "\n",
    "    DenseParameters = get_parameters(K.image_data_format(),\n",
    "                                     model_name='DenseNet121',Dataset_name='hyprid_dataset_v2',\n",
    "                                     input_height=224, input_width= 224,input_channels=3,\n",
    "                                     batch_size=32,\n",
    "                                     total_epochs=epochs,\n",
    "                                     create_top_layers= True,\n",
    "                                     top_layers_dims=[1024,512, 256],rate=0.0,\n",
    "                                     pooling='Max',\n",
    "                                     optimizer= Adam(lr=0.001),\n",
    "                                     pre_trained_weights='imagenet',\n",
    "                                     with_augmentation=False,\n",
    "                                     device = 'gpu-single',\n",
    "                                     device_id=1\n",
    "                                    )\n",
    "\n",
    "\n",
    "    input_tensor_shape = create_input_tensor_shape(DenseParameters)\n",
    "    model = DenseNet121(input_tensor=input_tensor_shape, weights=DenseParameters['pre_trained_weights'], include_top= (not DenseParameters['create_top_layers']), classes=DenseParameters['classes'], pooling=DenseParameters['pooling'])\n",
    "    initiate_model_then_train_then_save_results_to_csv_then_clear(model, DenseParameters, save_new_result_sheet = False)\n",
    "\n",
    "    K.tensorflow_backend.set_image_dim_ordering('tf')\n",
    " \n",
    "    \n",
    "except Exception as e:\n",
    "    print(e)\n",
    "    K.tensorflow_backend.set_image_dim_ordering('tf')"
   ]
  },
  {
   "cell_type": "code",
   "execution_count": null,
   "metadata": {},
   "outputs": [],
   "source": [
    "### LEAKY RELU"
   ]
  },
  {
   "cell_type": "code",
   "execution_count": null,
   "metadata": {},
   "outputs": [],
   "source": [
    "### # 1"
   ]
  },
  {
   "cell_type": "code",
   "execution_count": 2,
   "metadata": {},
   "outputs": [
    {
     "name": "stdout",
     "output_type": "stream",
     "text": [
      "WARNING:tensorflow:From /usr/lib/python3.6/site-packages/tensorflow/python/framework/op_def_library.py:263: colocate_with (from tensorflow.python.framework.ops) is deprecated and will be removed in a future version.\n",
      "Instructions for updating:\n",
      "Colocations handled automatically by placer.\n",
      " Entering function[create_input_tensor_shape]  in core.py\n",
      " Entering function[constrcut_model]  in core.py\n",
      " Entering function[prepare_train_valid_data]  in core.py\n",
      "Found 7226 images belonging to 3 classes.\n",
      "Found 180 images belonging to 3 classes.\n",
      " Entering function[get_classes_names_and_data_count_per_class_from_generator]  in core.py\n",
      " Entering function[get_classes_names_and_data_count_per_class_from_generator]  in core.py\n",
      " Entering function[create_top_layers]  in core.py\n",
      "creating top layers with activation = leaky_relu\n",
      " Entering function[train]  in core.py line 129\n",
      "train on gpu id: 1\n",
      "WARNING:tensorflow:From /usr/lib/python3.6/site-packages/tensorflow/python/ops/math_ops.py:3066: to_int32 (from tensorflow.python.ops.math_ops) is deprecated and will be removed in a future version.\n",
      "Instructions for updating:\n",
      "Use tf.cast instead.\n",
      "Epoch 1/1\n",
      "225/225 [==============================] - 264s 1s/step - loss: 0.4118 - acc: 0.8568 - val_loss: 0.4568 - val_acc: 0.7438\n",
      "[Errno 2] File b'/home/omar/supplements_detetction_and_classification/supplements_classification_models/result_sheet.csv' does not exist: b'/home/omar/supplements_detetction_and_classification/supplements_classification_models/result_sheet.csv'\n"
     ]
    }
   ],
   "source": [
    "try:\n",
    "    K.tensorflow_backend.set_image_dim_ordering('th')\n",
    "\n",
    "    DenseParameters = get_parameters(K.image_data_format(),\n",
    "                                     model_name='DenseNet121',Dataset_name='hyprid_dataset_v2',\n",
    "                                     input_height=224, input_width= 224,input_channels=3,\n",
    "                                     batch_size=32,\n",
    "                                     total_epochs=epochs,\n",
    "                                     create_top_layers= True,\n",
    "                                     top_layers_dims=[1024,256],rate=0.0,\n",
    "                                     pooling=None,\n",
    "                                     optimizer= Adam(lr=0.001),\n",
    "                                     pre_trained_weights='imagenet',\n",
    "                                     with_augmentation=True,\n",
    "                                     device = 'gpu-single',\n",
    "                                     device_id=1,\n",
    "                                     activation='leaky_relu'\n",
    "                                    )\n",
    "\n",
    "\n",
    "    input_tensor_shape = create_input_tensor_shape(DenseParameters)\n",
    "    model = DenseNet121(input_tensor=input_tensor_shape, weights=DenseParameters['pre_trained_weights'], include_top= (not DenseParameters['create_top_layers']), classes=DenseParameters['classes'], pooling=DenseParameters['pooling'])\n",
    "    initiate_model_then_train_then_save_results_to_csv_then_clear(model, DenseParameters, save_new_result_sheet = False)\n",
    "\n",
    "    K.tensorflow_backend.set_image_dim_ordering('tf')\n",
    "\n",
    "    \n",
    "except Exception as e:\n",
    "    print(e)\n",
    "    K.tensorflow_backend.set_image_dim_ordering('tf')\n"
   ]
  },
  {
   "cell_type": "code",
   "execution_count": null,
   "metadata": {},
   "outputs": [],
   "source": [
    "### #2"
   ]
  },
  {
   "cell_type": "code",
   "execution_count": null,
   "metadata": {},
   "outputs": [],
   "source": [
    "try:\n",
    "    K.tensorflow_backend.set_image_dim_ordering('th')\n",
    "\n",
    "    DenseParameters = get_parameters(K.image_data_format(),\n",
    "                                     model_name='DenseNet121',Dataset_name='hyprid_dataset_v2',\n",
    "                                     input_height=224, input_width= 224,input_channels=3,\n",
    "                                     batch_size=32,\n",
    "                                     total_epochs=epochs,\n",
    "                                     create_top_layers= True,\n",
    "                                     top_layers_dims=[1024,256],rate=0.0,\n",
    "                                     pooling='Avg',\n",
    "                                     optimizer= Adam(lr=0.001),\n",
    "                                     pre_trained_weights='imagenet',\n",
    "                                     with_augmentation=True,\n",
    "                                     device = 'gpu-single',\n",
    "                                     device_id=1,\n",
    "                                     activation='leaky_relu'\n",
    "                                    )\n",
    "\n",
    "\n",
    "    input_tensor_shape = create_input_tensor_shape(DenseParameters)\n",
    "    model = DenseNet121(input_tensor=input_tensor_shape, weights=DenseParameters['pre_trained_weights'], include_top= (not DenseParameters['create_top_layers']), classes=DenseParameters['classes'], pooling=DenseParameters['pooling'])\n",
    "    initiate_model_then_train_then_save_results_to_csv_then_clear(model, DenseParameters, save_new_result_sheet = False)\n",
    "\n",
    "    K.tensorflow_backend.set_image_dim_ordering('tf')\n",
    "\n",
    "    \n",
    "except Exception as e:\n",
    "    print(e)\n",
    "    K.tensorflow_backend.set_image_dim_ordering('tf')"
   ]
  },
  {
   "cell_type": "code",
   "execution_count": null,
   "metadata": {},
   "outputs": [],
   "source": [
    "### #3"
   ]
  },
  {
   "cell_type": "code",
   "execution_count": null,
   "metadata": {},
   "outputs": [],
   "source": [
    "try:\n",
    "    K.tensorflow_backend.set_image_dim_ordering('th')\n",
    "\n",
    "    DenseParameters = get_parameters(K.image_data_format(),\n",
    "                                     model_name='DenseNet121',Dataset_name='hyprid_dataset_v2',\n",
    "                                     input_height=224, input_width= 224,input_channels=3,\n",
    "                                     batch_size=32,\n",
    "                                     total_epochs=epochs,\n",
    "                                     create_top_layers= True,\n",
    "                                     top_layers_dims=[1024, 512, 256],rate=0.0,\n",
    "                                     pooling='None',\n",
    "                                     optimizer= Adam(lr=0.001),\n",
    "                                     pre_trained_weights='imagenet',\n",
    "                                     with_augmentation=True,\n",
    "                                     device = 'gpu-single',\n",
    "                                     device_id=1,\n",
    "                                     activation='leaky_relu'\n",
    "                                    )\n",
    "\n",
    "\n",
    "    input_tensor_shape = create_input_tensor_shape(DenseParameters)\n",
    "    model = DenseNet121(input_tensor=input_tensor_shape, weights=DenseParameters['pre_trained_weights'], include_top= (not DenseParameters['create_top_layers']), classes=DenseParameters['classes'], pooling=DenseParameters['pooling'])\n",
    "    initiate_model_then_train_then_save_results_to_csv_then_clear(model, DenseParameters, save_new_result_sheet = False)\n",
    "\n",
    "    K.tensorflow_backend.set_image_dim_ordering('tf')\n",
    "\n",
    "    \n",
    "except Exception as e:\n",
    "    print(e)\n",
    "    K.tensorflow_backend.set_image_dim_ordering('tf')"
   ]
  },
  {
   "cell_type": "code",
   "execution_count": null,
   "metadata": {},
   "outputs": [],
   "source": [
    "### #4"
   ]
  },
  {
   "cell_type": "code",
   "execution_count": null,
   "metadata": {},
   "outputs": [],
   "source": [
    "try:\n",
    "    K.tensorflow_backend.set_image_dim_ordering('th')\n",
    "\n",
    "    DenseParameters = get_parameters(K.image_data_format(),\n",
    "                                     model_name='DenseNet121',Dataset_name='hyprid_dataset_v2',\n",
    "                                     input_height=224, input_width= 224,input_channels=3,\n",
    "                                     batch_size=32,\n",
    "                                     total_epochs=epochs,\n",
    "                                     create_top_layers= True,\n",
    "                                     top_layers_dims=[1024,512,256],rate=0.0,\n",
    "                                     pooling='Avg',\n",
    "                                     optimizer= Adam(lr=0.001),\n",
    "                                     pre_trained_weights='imagenet',\n",
    "                                     with_augmentation=True,\n",
    "                                     device = 'gpu-single',\n",
    "                                     device_id=1,\n",
    "                                     activation='leaky_relu'\n",
    "                                    )\n",
    "\n",
    "\n",
    "    input_tensor_shape = create_input_tensor_shape(DenseParameters)\n",
    "    model = DenseNet121(input_tensor=input_tensor_shape, weights=DenseParameters['pre_trained_weights'], include_top= (not DenseParameters['create_top_layers']), classes=DenseParameters['classes'], pooling=DenseParameters['pooling'])\n",
    "    initiate_model_then_train_then_save_results_to_csv_then_clear(model, DenseParameters, save_new_result_sheet = False)\n",
    "\n",
    "    K.tensorflow_backend.set_image_dim_ordering('tf')\n",
    "\n",
    "    \n",
    "except Exception as e:\n",
    "    print(e)\n",
    "    K.tensorflow_backend.set_image_dim_ordering('tf')"
   ]
  },
  {
   "cell_type": "code",
   "execution_count": null,
   "metadata": {},
   "outputs": [],
   "source": [
    "### #5"
   ]
  },
  {
   "cell_type": "code",
   "execution_count": null,
   "metadata": {},
   "outputs": [],
   "source": [
    "try:\n",
    "    K.tensorflow_backend.set_image_dim_ordering('th')\n",
    "\n",
    "    DenseParameters = get_parameters(K.image_data_format(),\n",
    "                                     model_name='DenseNet121',Dataset_name='hyprid_dataset_v2',\n",
    "                                     input_height=224, input_width= 224,input_channels=3,\n",
    "                                     batch_size=32,\n",
    "                                     total_epochs=epochs,\n",
    "                                     create_top_layers= True,\n",
    "                                     top_layers_dims=[1024,512, 256],rate=0.0,\n",
    "                                     pooling='Max',\n",
    "                                     optimizer= Adam(lr=0.001),\n",
    "                                     pre_trained_weights='imagenet',\n",
    "                                     with_augmentation=True,\n",
    "                                     device = 'gpu-single',\n",
    "                                     device_id=1,\n",
    "                                     activation='leaky_relu'\n",
    "                                    )\n",
    "\n",
    "\n",
    "    input_tensor_shape = create_input_tensor_shape(DenseParameters)\n",
    "    model = DenseNet121(input_tensor=input_tensor_shape, weights=DenseParameters['pre_trained_weights'], include_top= (not DenseParameters['create_top_layers']), classes=DenseParameters['classes'], pooling=DenseParameters['pooling'])\n",
    "    initiate_model_then_train_then_save_results_to_csv_then_clear(model, DenseParameters, save_new_result_sheet = False)\n",
    "\n",
    "    K.tensorflow_backend.set_image_dim_ordering('tf')\n",
    "\n",
    "    \n",
    "except Exception as e:\n",
    "    print(e)\n",
    "    K.tensorflow_backend.set_image_dim_ordering('tf')"
   ]
  },
  {
   "cell_type": "code",
   "execution_count": null,
   "metadata": {},
   "outputs": [],
   "source": [
    "### #6"
   ]
  },
  {
   "cell_type": "code",
   "execution_count": null,
   "metadata": {},
   "outputs": [],
   "source": [
    "try:\n",
    "    K.tensorflow_backend.set_image_dim_ordering('th')\n",
    "\n",
    "    DenseParameters = get_parameters(K.image_data_format(),\n",
    "                                     model_name='DenseNet121',Dataset_name='hyprid_dataset_v2',\n",
    "                                     input_height=224, input_width= 224,input_channels=3,\n",
    "                                     batch_size=16,\n",
    "                                     total_epochs=epochs,\n",
    "                                     create_top_layers= True,\n",
    "                                     top_layers_dims=[1024,512, 256],rate=0.0,\n",
    "                                     pooling='Max',\n",
    "                                     optimizer= Adam(lr=0.001),\n",
    "                                     pre_trained_weights='imagenet',\n",
    "                                     with_augmentation=False,\n",
    "                                     device = 'gpu-single',\n",
    "                                     device_id=1,\n",
    "                                     activation='leaky_relu'\n",
    "                                    )\n",
    "\n",
    "\n",
    "    input_tensor_shape = create_input_tensor_shape(DenseParameters)\n",
    "    model = DenseNet121(input_tensor=input_tensor_shape, weights=DenseParameters['pre_trained_weights'], include_top= (not DenseParameters['create_top_layers']), classes=DenseParameters['classes'], pooling=DenseParameters['pooling'])\n",
    "    initiate_model_then_train_then_save_results_to_csv_then_clear(model, DenseParameters, save_new_result_sheet = False)\n",
    "\n",
    "    K.tensorflow_backend.set_image_dim_ordering('tf')\n",
    " \n",
    "    \n",
    "except Exception as e:\n",
    "    print(e)\n",
    "    K.tensorflow_backend.set_image_dim_ordering('tf')"
   ]
  },
  {
   "cell_type": "code",
   "execution_count": null,
   "metadata": {},
   "outputs": [],
   "source": []
  }
 ],
 "metadata": {
  "kernelspec": {
   "display_name": "Python 3",
   "language": "python",
   "name": "python3"
  },
  "language_info": {
   "codemirror_mode": {
    "name": "ipython",
    "version": 3
   },
   "file_extension": ".py",
   "mimetype": "text/x-python",
   "name": "python",
   "nbconvert_exporter": "python",
   "pygments_lexer": "ipython3",
   "version": "3.6.8"
  },
  "toc": {
   "base_numbering": 1,
   "nav_menu": {},
   "number_sections": true,
   "sideBar": true,
   "skip_h1_title": false,
   "title_cell": "Table of Contents",
   "title_sidebar": "Contents",
   "toc_cell": false,
   "toc_position": {},
   "toc_section_display": true,
   "toc_window_display": false
  }
 },
 "nbformat": 4,
 "nbformat_minor": 2
}
